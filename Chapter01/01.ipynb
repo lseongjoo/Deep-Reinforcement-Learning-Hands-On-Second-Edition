{
 "cells": [
  {
   "cell_type": "code",
   "execution_count": 1,
   "metadata": {},
   "outputs": [
    {
     "ename": "ModuleNotFoundError",
     "evalue": "No module named 'pandas'",
     "output_type": "error",
     "traceback": [
      "\u001b[0;31m---------------------------------------------------------------------------\u001b[0m",
      "\u001b[0;31mModuleNotFoundError\u001b[0m                       Traceback (most recent call last)",
      "\u001b[1;32m/workspaces/Deep-Reinforcement-Learning-Hands-On-Second-Edition/Chapter01/01.ipynb Cell 1'\u001b[0m in \u001b[0;36m<module>\u001b[0;34m\u001b[0m\n\u001b[1;32m      <a href='vscode-notebook-cell://dev-container%2B5c5c77736c245c5562756e74755c686f6d655c73656f6e676a6f6f5c636f64655c446565702d5265696e666f7263656d656e742d4c6561726e696e672d48616e64732d4f6e2d5365636f6e642d45646974696f6e/workspaces/Deep-Reinforcement-Learning-Hands-On-Second-Edition/Chapter01/01.ipynb#ch0000000vscode-remote?line=0'>1</a>\u001b[0m \u001b[39mimport\u001b[39;00m \u001b[39msys\u001b[39;00m\n\u001b[1;32m      <a href='vscode-notebook-cell://dev-container%2B5c5c77736c245c5562756e74755c686f6d655c73656f6e676a6f6f5c636f64655c446565702d5265696e666f7263656d656e742d4c6561726e696e672d48616e64732d4f6e2d5365636f6e642d45646974696f6e/workspaces/Deep-Reinforcement-Learning-Hands-On-Second-Edition/Chapter01/01.ipynb#ch0000000vscode-remote?line=1'>2</a>\u001b[0m \u001b[39mimport\u001b[39;00m \u001b[39mnumpy\u001b[39;00m \u001b[39mas\u001b[39;00m \u001b[39mnp\u001b[39;00m\n\u001b[0;32m----> <a href='vscode-notebook-cell://dev-container%2B5c5c77736c245c5562756e74755c686f6d655c73656f6e676a6f6f5c636f64655c446565702d5265696e666f7263656d656e742d4c6561726e696e672d48616e64732d4f6e2d5365636f6e642d45646974696f6e/workspaces/Deep-Reinforcement-Learning-Hands-On-Second-Edition/Chapter01/01.ipynb#ch0000000vscode-remote?line=2'>3</a>\u001b[0m \u001b[39mimport\u001b[39;00m \u001b[39mpandas\u001b[39;00m \u001b[39mas\u001b[39;00m \u001b[39mpd\u001b[39;00m\n\u001b[1;32m      <a href='vscode-notebook-cell://dev-container%2B5c5c77736c245c5562756e74755c686f6d655c73656f6e676a6f6f5c636f64655c446565702d5265696e666f7263656d656e742d4c6561726e696e672d48616e64732d4f6e2d5365636f6e642d45646974696f6e/workspaces/Deep-Reinforcement-Learning-Hands-On-Second-Edition/Chapter01/01.ipynb#ch0000000vscode-remote?line=4'>5</a>\u001b[0m \u001b[39mprint\u001b[39m(sys\u001b[39m.\u001b[39mversion)\n",
      "\u001b[0;31mModuleNotFoundError\u001b[0m: No module named 'pandas'"
     ]
    }
   ],
   "source": [
    "import sys\n",
    "import numpy as np\n",
    "import pandas as pd\n",
    "\n",
    "print(sys.version)"
   ]
  },
  {
   "cell_type": "markdown",
   "metadata": {},
   "source": [
    "# Markov decision Process"
   ]
  },
  {
   "cell_type": "markdown",
   "metadata": {},
   "source": [
    "## Markov process\n",
    "### 시스템 상태 (state)와 변환 행렬 (transition_matrix)\n",
    "\n",
    "마코프 프로세스 또는 마코프 체인인 어떤 시스템에서는, 유한한 개수의 상태들이 일정한 확률로 다른 상태로 변환된다. 또한, 마코프 속성(Markov property)을 충족하기 위해서는, 시스템의 미래 상태는 현재 상태에만 영향을 받아야 한다. 이러한 속성은 마코스 시스템의 각 상태가 다른 것들과 서로 구분되는 고유함을 보장하기 위해서이다.\n"
   ]
  },
  {
   "cell_type": "code",
   "execution_count": 11,
   "metadata": {},
   "outputs": [
    {
     "data": {
      "text/html": [
       "<div>\n",
       "<style scoped>\n",
       "    .dataframe tbody tr th:only-of-type {\n",
       "        vertical-align: middle;\n",
       "    }\n",
       "\n",
       "    .dataframe tbody tr th {\n",
       "        vertical-align: top;\n",
       "    }\n",
       "\n",
       "    .dataframe thead th {\n",
       "        text-align: right;\n",
       "    }\n",
       "</style>\n",
       "<table border=\"1\" class=\"dataframe\">\n",
       "  <thead>\n",
       "    <tr style=\"text-align: right;\">\n",
       "      <th></th>\n",
       "      <th>0</th>\n",
       "      <th>1</th>\n",
       "    </tr>\n",
       "  </thead>\n",
       "  <tbody>\n",
       "    <tr>\n",
       "      <th>0</th>\n",
       "      <td>0.8</td>\n",
       "      <td>0.2</td>\n",
       "    </tr>\n",
       "    <tr>\n",
       "      <th>1</th>\n",
       "      <td>0.1</td>\n",
       "      <td>0.9</td>\n",
       "    </tr>\n",
       "  </tbody>\n",
       "</table>\n",
       "</div>"
      ],
      "text/plain": [
       "     0    1\n",
       "0  0.8  0.2\n",
       "1  0.1  0.9"
      ]
     },
     "execution_count": 11,
     "metadata": {},
     "output_type": "execute_result"
    }
   ],
   "source": [
    "state_space = [0, 1]\n",
    "transition_matrix = [[0.8, 0.2], [0.1, 0.9]]\n",
    "pd.DataFrame(transition_matrix, index=state_space, columns=state_space)"
   ]
  },
  {
   "cell_type": "markdown",
   "metadata": {},
   "source": [
    "### 히스토리(history)와 에피소드(episode)\n",
    "\n",
    "상태에 대한 일련의 변환 기록을 히스토리라고 한다. 히스토리 내 임의의 일련의 구간을 에피소드라고 한다. 각 에피소드는 변환 행렬의 확률에 따라 일련의 상태 변환으로 구성된다. "
   ]
  },
  {
   "cell_type": "code",
   "execution_count": 12,
   "metadata": {},
   "outputs": [
    {
     "data": {
      "text/plain": [
       "[0, 1, 1, 1, 1, 1, 1, 1, 1, 1]"
      ]
     },
     "execution_count": 12,
     "metadata": {},
     "output_type": "execute_result"
    }
   ],
   "source": [
    "import numpy.random as rnd\n",
    "\n",
    "def generate_episode(state_space, transition_matrix, n_steps, initial_state=None):\n",
    "    episode = [rnd.choice(state_space) if initial_state is None else initial_state]\n",
    "    for _ in range(n_steps):\n",
    "        next_state = rnd.choice(state_space, p=transition_matrix[episode[-1]])\n",
    "        episode.append(next_state)\n",
    "    return episode\n",
    "\n",
    "episode = generate_episode(state_space, transition_matrix, 1000)\n",
    "episode[:10]"
   ]
  },
  {
   "cell_type": "markdown",
   "metadata": {},
   "source": [
    "#### Episodes\n",
    "\n",
    "시스템 상태에 대한 관찰을 에피소드(episode)라고 한다."
   ]
  },
  {
   "cell_type": "code",
   "execution_count": 13,
   "metadata": {},
   "outputs": [
    {
     "name": "stdout",
     "output_type": "stream",
     "text": [
      "[0, 0, 0, 0, 0, 0, 0, 0, 0, 0, 1]\n",
      "[0, 0, 0, 0, 0, 0, 0, 0, 0, 0, 0]\n",
      "[0, 0, 0, 0, 0, 0, 0, 1, 1, 1, 1]\n",
      "[0, 0, 0, 0, 0, 0, 0, 0, 1, 1, 1]\n",
      "[0, 0, 0, 1, 1, 1, 1, 0, 0, 0, 0]\n",
      "[1, 1, 1, 1, 1, 1, 1, 1, 1, 1, 1]\n",
      "[0, 0, 0, 0, 1, 1, 1, 1, 1, 1, 1]\n",
      "[0, 1, 1, 1, 0, 1, 1, 1, 1, 1, 1]\n",
      "[0, 1, 1, 1, 0, 0, 1, 1, 1, 1, 1]\n",
      "[1, 0, 0, 0, 0, 1, 1, 1, 1, 1, 1]\n"
     ]
    }
   ],
   "source": [
    "for _ in range(10):\n",
    "    episode = generate_episode(state_space, transition_matrix, 10)\n",
    "    print(episode)\n"
   ]
  },
  {
   "cell_type": "code",
   "execution_count": 14,
   "metadata": {},
   "outputs": [
    {
     "name": "stdout",
     "output_type": "stream",
     "text": [
      "1 -> 1: 0.5\n",
      "0 -> 0: 0.3\n",
      "1 -> 0: 0.1\n",
      "0 -> 1: 0.1\n"
     ]
    },
    {
     "data": {
      "text/html": [
       "<div>\n",
       "<style scoped>\n",
       "    .dataframe tbody tr th:only-of-type {\n",
       "        vertical-align: middle;\n",
       "    }\n",
       "\n",
       "    .dataframe tbody tr th {\n",
       "        vertical-align: top;\n",
       "    }\n",
       "\n",
       "    .dataframe thead th {\n",
       "        text-align: right;\n",
       "    }\n",
       "</style>\n",
       "<table border=\"1\" class=\"dataframe\">\n",
       "  <thead>\n",
       "    <tr style=\"text-align: right;\">\n",
       "      <th></th>\n",
       "      <th>0</th>\n",
       "      <th>1</th>\n",
       "    </tr>\n",
       "  </thead>\n",
       "  <tbody>\n",
       "    <tr>\n",
       "      <th>0</th>\n",
       "      <td>0.3</td>\n",
       "      <td>0.1</td>\n",
       "    </tr>\n",
       "    <tr>\n",
       "      <th>1</th>\n",
       "      <td>0.1</td>\n",
       "      <td>0.5</td>\n",
       "    </tr>\n",
       "  </tbody>\n",
       "</table>\n",
       "</div>"
      ],
      "text/plain": [
       "     0    1\n",
       "0  0.3  0.1\n",
       "1  0.1  0.5"
      ]
     },
     "execution_count": 14,
     "metadata": {},
     "output_type": "execute_result"
    }
   ],
   "source": [
    "episodes = list(zip(episode, episode[1:]))\n",
    "estimated_probabilities = pd.Series(episodes).value_counts() / len(episodes)\n",
    "for i, j in estimated_probabilities.index:\n",
    "    print(f'{i} -> {j}: {estimated_probabilities[i, j]}')\n",
    "\n",
    "pd.DataFrame([[estimated_probabilities[i, j] for j in state_space] for i in state_space])"
   ]
  },
  {
   "cell_type": "markdown",
   "metadata": {},
   "source": [
    "## Markov reward process\n",
    "\n",
    "$$ G_t = R_{t+1} + \\gamma R_{t+2} + \\gamma^2 R_{t+3} + \\cdots = \\sum_{k=0}^{\\infty}\\gamma^kR_{t+k+1} $$"
   ]
  },
  {
   "cell_type": "code",
   "execution_count": 15,
   "metadata": {},
   "outputs": [
    {
     "data": {
      "text/html": [
       "<div>\n",
       "<style scoped>\n",
       "    .dataframe tbody tr th:only-of-type {\n",
       "        vertical-align: middle;\n",
       "    }\n",
       "\n",
       "    .dataframe tbody tr th {\n",
       "        vertical-align: top;\n",
       "    }\n",
       "\n",
       "    .dataframe thead th {\n",
       "        text-align: right;\n",
       "    }\n",
       "</style>\n",
       "<table border=\"1\" class=\"dataframe\">\n",
       "  <thead>\n",
       "    <tr style=\"text-align: right;\">\n",
       "      <th></th>\n",
       "      <th>Home</th>\n",
       "      <th>Coffee</th>\n",
       "      <th>Chat</th>\n",
       "      <th>Work</th>\n",
       "    </tr>\n",
       "  </thead>\n",
       "  <tbody>\n",
       "    <tr>\n",
       "      <th>Home</th>\n",
       "      <td>0.6</td>\n",
       "      <td>0.4</td>\n",
       "      <td>0.0</td>\n",
       "      <td>0.0</td>\n",
       "    </tr>\n",
       "    <tr>\n",
       "      <th>Coffee</th>\n",
       "      <td>0.0</td>\n",
       "      <td>0.1</td>\n",
       "      <td>0.7</td>\n",
       "      <td>0.2</td>\n",
       "    </tr>\n",
       "    <tr>\n",
       "      <th>Chat</th>\n",
       "      <td>0.0</td>\n",
       "      <td>0.2</td>\n",
       "      <td>0.5</td>\n",
       "      <td>0.3</td>\n",
       "    </tr>\n",
       "    <tr>\n",
       "      <th>Work</th>\n",
       "      <td>0.2</td>\n",
       "      <td>0.2</td>\n",
       "      <td>0.1</td>\n",
       "      <td>0.5</td>\n",
       "    </tr>\n",
       "  </tbody>\n",
       "</table>\n",
       "</div>"
      ],
      "text/plain": [
       "        Home  Coffee  Chat  Work\n",
       "Home     0.6     0.4   0.0   0.0\n",
       "Coffee   0.0     0.1   0.7   0.2\n",
       "Chat     0.0     0.2   0.5   0.3\n",
       "Work     0.2     0.2   0.1   0.5"
      ]
     },
     "execution_count": 15,
     "metadata": {},
     "output_type": "execute_result"
    }
   ],
   "source": [
    "state_space = [0, 1, 2, 3]\n",
    "space_names = ['Home', 'Coffee', 'Chat', 'Work']\n",
    "transition_matrix = [[0.6, 0.4, 0.0, 0.0], [0.0, 0.1, 0.7, 0.2], [0.0, 0.2, 0.5, 0.3], [0.2, 0.2, 0.1, 0.5]]\n",
    "pd.DataFrame(transition_matrix, index=space_names, columns=space_names)"
   ]
  },
  {
   "cell_type": "code",
   "execution_count": 16,
   "metadata": {},
   "outputs": [
    {
     "data": {
      "text/plain": [
       "0  0    1.0\n",
       "   1    1.0\n",
       "1  1    1.0\n",
       "   2    2.0\n",
       "   3    3.0\n",
       "2  1    1.0\n",
       "   2   -1.0\n",
       "   3    2.0\n",
       "3  0    2.0\n",
       "   1    1.0\n",
       "   2   -3.0\n",
       "   3    5.0\n",
       "dtype: float64"
      ]
     },
     "execution_count": 16,
     "metadata": {},
     "output_type": "execute_result"
    }
   ],
   "source": [
    "rewards = {(0, 0): 1.0, (0, 1): 1.0, (3, 3): 5.0, (3, 2): -3.0, (2, 3): 2.0, (3, 1): 1.0, (1, 3): 3.0, (1, 1): 1.0, (1, 2): 2.0, (2, 1): 1.0, (2, 2): -1.0, (3, 0): 2}\n",
    "pd.Series(rewards).sort_index()"
   ]
  },
  {
   "cell_type": "code",
   "execution_count": 17,
   "metadata": {},
   "outputs": [
    {
     "name": "stdout",
     "output_type": "stream",
     "text": [
      "For episode: [3, 3, 3, 0, 0, 1, 2, 3, 0, 0, 0, 1, 2, 2, 2, 3, 3, 3, 0, 0, 0]\n",
      "Return (gamma=0.0): 5.00\n",
      "Return (gamma=0.1): 5.52\n",
      "Return (gamma=0.2): 6.09\n",
      "Return (gamma=0.3): 6.72\n",
      "Return (gamma=0.4): 7.44\n",
      "Return (gamma=0.5): 8.30\n",
      "Return (gamma=0.6): 9.41\n",
      "Return (gamma=0.7): 11.00\n",
      "Return (gamma=0.8): 13.74\n",
      "Return (gamma=0.9): 20.00\n",
      "Return (gamma=1.0): 39.00\n"
     ]
    }
   ],
   "source": [
    "def compute_return(episode, reward, discount_factor=0.0):\n",
    "    return_ = 0.0\n",
    "    for i in range(len(episode) - 1):\n",
    "        current_state, next_state = episode[i], episode[i + 1]\n",
    "        return_ += discount_factor ** i * reward.get((current_state, next_state), 0.0)\n",
    "    return return_\n",
    "\n",
    "episode = generate_episode(state_space, transition_matrix, 20)\n",
    "print(f'For episode: {episode}')\n",
    "for gamma in np.arange(0.0, 1.1, 0.1):\n",
    "    print(f'Return (gamma={gamma:.1f}): {compute_return(episode, rewards, discount_factor=gamma):.2f}')"
   ]
  },
  {
   "cell_type": "markdown",
   "metadata": {},
   "source": [
    "### Value of the state\n",
    "\n",
    "$$ V(s) = \\mathbb{E}[\\,G|S_t=s]\\, $$"
   ]
  },
  {
   "cell_type": "code",
   "execution_count": 18,
   "metadata": {},
   "outputs": [
    {
     "name": "stdout",
     "output_type": "stream",
     "text": [
      "State value for 0: 1.00\n",
      "State value for 1: 2.10\n",
      "State value for 2: 0.30\n",
      "State value for 3: 2.80\n"
     ]
    }
   ],
   "source": [
    "state_value = lambda state: np.sum(np.array(transition_matrix[state]) * np.array([compute_return((state, i), rewards, 0) for i in state_space]))\n",
    "for i in state_space:\n",
    "    print(f'State value for {i}: {state_value(i):.2f}')"
   ]
  },
  {
   "cell_type": "code",
   "execution_count": null,
   "metadata": {},
   "outputs": [],
   "source": []
  }
 ],
 "metadata": {
  "interpreter": {
   "hash": "a5396ef2fa8256c22596102e1af346da45504d5824932a0136724840d54cadca"
  },
  "kernelspec": {
   "display_name": "Python 3.9.9 ('py39-tf27')",
   "language": "python",
   "name": "python3"
  },
  "language_info": {
   "codemirror_mode": {
    "name": "ipython",
    "version": 3
   },
   "file_extension": ".py",
   "mimetype": "text/x-python",
   "name": "python",
   "nbconvert_exporter": "python",
   "pygments_lexer": "ipython3",
   "version": "3.8.12"
  },
  "orig_nbformat": 4
 },
 "nbformat": 4,
 "nbformat_minor": 2
}
